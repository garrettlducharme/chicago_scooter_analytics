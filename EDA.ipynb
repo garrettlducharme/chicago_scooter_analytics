{
 "cells": [
  {
   "cell_type": "code",
   "execution_count": 1,
   "metadata": {},
   "outputs": [],
   "source": [
    "import numpy as np\n",
    "import pandas as pd\n",
    "import matplotlib.pyplot as plt\n",
    "import seaborn as sns\n",
    "from datetime import datetime\n",
    "from datetime import timedelta\n",
    "import requests\n",
    "import json\n",
    "\n",
    "%load_ext autoreload\n",
    "%autoreload 2\n",
    "%matplotlib inline"
   ]
  },
  {
   "cell_type": "markdown",
   "metadata": {},
   "source": [
    "Importing the data"
   ]
  },
  {
   "cell_type": "code",
   "execution_count": 2,
   "metadata": {},
   "outputs": [],
   "source": [
    "df = pd.read_csv('data/E-Scooter_Trips_-_2019_Pilot.csv', low_memory=False)"
   ]
  },
  {
   "cell_type": "markdown",
   "metadata": {},
   "source": [
    "Taking a first look"
   ]
  },
  {
   "cell_type": "code",
   "execution_count": 3,
   "metadata": {},
   "outputs": [
    {
     "data": {
      "text/html": [
       "<div>\n",
       "<style scoped>\n",
       "    .dataframe tbody tr th:only-of-type {\n",
       "        vertical-align: middle;\n",
       "    }\n",
       "\n",
       "    .dataframe tbody tr th {\n",
       "        vertical-align: top;\n",
       "    }\n",
       "\n",
       "    .dataframe thead th {\n",
       "        text-align: right;\n",
       "    }\n",
       "</style>\n",
       "<table border=\"1\" class=\"dataframe\">\n",
       "  <thead>\n",
       "    <tr style=\"text-align: right;\">\n",
       "      <th></th>\n",
       "      <th>Trip ID</th>\n",
       "      <th>Start Time</th>\n",
       "      <th>End Time</th>\n",
       "      <th>Trip Distance</th>\n",
       "      <th>Trip Duration</th>\n",
       "      <th>Accuracy</th>\n",
       "      <th>Start Census Tract</th>\n",
       "      <th>End Census Tract</th>\n",
       "      <th>Start Community Area Number</th>\n",
       "      <th>End Community Area Number</th>\n",
       "      <th>Start Community Area Name</th>\n",
       "      <th>End Community Area Name</th>\n",
       "      <th>Start Centroid Latitude</th>\n",
       "      <th>Start Centroid Longitude</th>\n",
       "      <th>Start Centroid Location</th>\n",
       "      <th>End Centroid Latitude</th>\n",
       "      <th>End Centroid Longitude</th>\n",
       "      <th>End Centroid Location</th>\n",
       "    </tr>\n",
       "  </thead>\n",
       "  <tbody>\n",
       "    <tr>\n",
       "      <th>0</th>\n",
       "      <td>758e9d21-609f-5479-8e2c-5e8f64258202</td>\n",
       "      <td>07/01/2019 05:00:00 PM</td>\n",
       "      <td>07/01/2019 05:00:00 PM</td>\n",
       "      <td>421</td>\n",
       "      <td>3</td>\n",
       "      <td>1</td>\n",
       "      <td>NaN</td>\n",
       "      <td>NaN</td>\n",
       "      <td>NaN</td>\n",
       "      <td>NaN</td>\n",
       "      <td>NaN</td>\n",
       "      <td>NaN</td>\n",
       "      <td>NaN</td>\n",
       "      <td>NaN</td>\n",
       "      <td>NaN</td>\n",
       "      <td>NaN</td>\n",
       "      <td>NaN</td>\n",
       "      <td>NaN</td>\n",
       "    </tr>\n",
       "    <tr>\n",
       "      <th>1</th>\n",
       "      <td>ff33490c-254a-5af2-9315-d6b2a45b07f7</td>\n",
       "      <td>06/29/2019 06:00:00 PM</td>\n",
       "      <td>06/29/2019 06:00:00 PM</td>\n",
       "      <td>6318</td>\n",
       "      <td>31</td>\n",
       "      <td>1</td>\n",
       "      <td>NaN</td>\n",
       "      <td>NaN</td>\n",
       "      <td>NaN</td>\n",
       "      <td>NaN</td>\n",
       "      <td>NaN</td>\n",
       "      <td>NaN</td>\n",
       "      <td>NaN</td>\n",
       "      <td>NaN</td>\n",
       "      <td>NaN</td>\n",
       "      <td>NaN</td>\n",
       "      <td>NaN</td>\n",
       "      <td>NaN</td>\n",
       "    </tr>\n",
       "    <tr>\n",
       "      <th>2</th>\n",
       "      <td>f8a25729-e853-40f3-9200-7eea9f9c45f2</td>\n",
       "      <td>09/16/2019 01:00:00 PM</td>\n",
       "      <td>09/16/2019 01:00:00 PM</td>\n",
       "      <td>77</td>\n",
       "      <td>732</td>\n",
       "      <td>10</td>\n",
       "      <td>NaN</td>\n",
       "      <td>NaN</td>\n",
       "      <td>NaN</td>\n",
       "      <td>25.0</td>\n",
       "      <td>NaN</td>\n",
       "      <td>AUSTIN</td>\n",
       "      <td>NaN</td>\n",
       "      <td>NaN</td>\n",
       "      <td>NaN</td>\n",
       "      <td>41.894101</td>\n",
       "      <td>-87.763112</td>\n",
       "      <td>POINT (-87.7631118242259 41.8941012961134)</td>\n",
       "    </tr>\n",
       "    <tr>\n",
       "      <th>3</th>\n",
       "      <td>11d42b99-e839-346c-11d4-2b99e839346c</td>\n",
       "      <td>06/24/2019 07:00:00 PM</td>\n",
       "      <td>06/24/2019 07:00:00 PM</td>\n",
       "      <td>917</td>\n",
       "      <td>359</td>\n",
       "      <td>10</td>\n",
       "      <td>NaN</td>\n",
       "      <td>NaN</td>\n",
       "      <td>25.0</td>\n",
       "      <td>25.0</td>\n",
       "      <td>AUSTIN</td>\n",
       "      <td>AUSTIN</td>\n",
       "      <td>41.894101</td>\n",
       "      <td>-87.763112</td>\n",
       "      <td>POINT (-87.7631118242259 41.8941012961134)</td>\n",
       "      <td>41.894101</td>\n",
       "      <td>-87.763112</td>\n",
       "      <td>POINT (-87.7631118242259 41.8941012961134)</td>\n",
       "    </tr>\n",
       "    <tr>\n",
       "      <th>4</th>\n",
       "      <td>0c226130-0fa6-518f-8fe6-219b9fa5f42f</td>\n",
       "      <td>07/12/2019 07:00:00 PM</td>\n",
       "      <td>07/12/2019 07:00:00 PM</td>\n",
       "      <td>0</td>\n",
       "      <td>218</td>\n",
       "      <td>0</td>\n",
       "      <td>NaN</td>\n",
       "      <td>NaN</td>\n",
       "      <td>21.0</td>\n",
       "      <td>21.0</td>\n",
       "      <td>AVONDALE</td>\n",
       "      <td>AVONDALE</td>\n",
       "      <td>41.938666</td>\n",
       "      <td>-87.711211</td>\n",
       "      <td>POINT (-87.7112106378686 41.938665887698)</td>\n",
       "      <td>41.938666</td>\n",
       "      <td>-87.711211</td>\n",
       "      <td>POINT (-87.7112106378686 41.938665887698)</td>\n",
       "    </tr>\n",
       "  </tbody>\n",
       "</table>\n",
       "</div>"
      ],
      "text/plain": [
       "                                Trip ID              Start Time  \\\n",
       "0  758e9d21-609f-5479-8e2c-5e8f64258202  07/01/2019 05:00:00 PM   \n",
       "1  ff33490c-254a-5af2-9315-d6b2a45b07f7  06/29/2019 06:00:00 PM   \n",
       "2  f8a25729-e853-40f3-9200-7eea9f9c45f2  09/16/2019 01:00:00 PM   \n",
       "3  11d42b99-e839-346c-11d4-2b99e839346c  06/24/2019 07:00:00 PM   \n",
       "4  0c226130-0fa6-518f-8fe6-219b9fa5f42f  07/12/2019 07:00:00 PM   \n",
       "\n",
       "                 End Time  Trip Distance  Trip Duration  Accuracy  \\\n",
       "0  07/01/2019 05:00:00 PM            421              3         1   \n",
       "1  06/29/2019 06:00:00 PM           6318             31         1   \n",
       "2  09/16/2019 01:00:00 PM             77            732        10   \n",
       "3  06/24/2019 07:00:00 PM            917            359        10   \n",
       "4  07/12/2019 07:00:00 PM              0            218         0   \n",
       "\n",
       "   Start Census Tract  End Census Tract  Start Community Area Number  \\\n",
       "0                 NaN               NaN                          NaN   \n",
       "1                 NaN               NaN                          NaN   \n",
       "2                 NaN               NaN                          NaN   \n",
       "3                 NaN               NaN                         25.0   \n",
       "4                 NaN               NaN                         21.0   \n",
       "\n",
       "   End Community Area Number Start Community Area Name  \\\n",
       "0                        NaN                       NaN   \n",
       "1                        NaN                       NaN   \n",
       "2                       25.0                       NaN   \n",
       "3                       25.0                    AUSTIN   \n",
       "4                       21.0                  AVONDALE   \n",
       "\n",
       "  End Community Area Name  Start Centroid Latitude  Start Centroid Longitude  \\\n",
       "0                     NaN                      NaN                       NaN   \n",
       "1                     NaN                      NaN                       NaN   \n",
       "2                  AUSTIN                      NaN                       NaN   \n",
       "3                  AUSTIN                41.894101                -87.763112   \n",
       "4                AVONDALE                41.938666                -87.711211   \n",
       "\n",
       "                      Start Centroid Location  End Centroid Latitude  \\\n",
       "0                                         NaN                    NaN   \n",
       "1                                         NaN                    NaN   \n",
       "2                                         NaN              41.894101   \n",
       "3  POINT (-87.7631118242259 41.8941012961134)              41.894101   \n",
       "4   POINT (-87.7112106378686 41.938665887698)              41.938666   \n",
       "\n",
       "   End Centroid Longitude                       End Centroid Location  \n",
       "0                     NaN                                         NaN  \n",
       "1                     NaN                                         NaN  \n",
       "2              -87.763112  POINT (-87.7631118242259 41.8941012961134)  \n",
       "3              -87.763112  POINT (-87.7631118242259 41.8941012961134)  \n",
       "4              -87.711211   POINT (-87.7112106378686 41.938665887698)  "
      ]
     },
     "execution_count": 3,
     "metadata": {},
     "output_type": "execute_result"
    }
   ],
   "source": [
    "df.head()"
   ]
  },
  {
   "cell_type": "markdown",
   "metadata": {},
   "source": [
    "Column information and non-null counts"
   ]
  },
  {
   "cell_type": "code",
   "execution_count": 4,
   "metadata": {},
   "outputs": [
    {
     "name": "stdout",
     "output_type": "stream",
     "text": [
      "<class 'pandas.core.frame.DataFrame'>\n",
      "RangeIndex: 710839 entries, 0 to 710838\n",
      "Data columns (total 18 columns):\n",
      "Trip ID                        710839 non-null object\n",
      "Start Time                     710839 non-null object\n",
      "End Time                       710839 non-null object\n",
      "Trip Distance                  710839 non-null int64\n",
      "Trip Duration                  710839 non-null int64\n",
      "Accuracy                       710839 non-null int64\n",
      "Start Census Tract             382637 non-null float64\n",
      "End Census Tract               382475 non-null float64\n",
      "Start Community Area Number    613450 non-null float64\n",
      "End Community Area Number      612923 non-null float64\n",
      "Start Community Area Name      613450 non-null object\n",
      "End Community Area Name        612923 non-null object\n",
      "Start Centroid Latitude        613451 non-null float64\n",
      "Start Centroid Longitude       613451 non-null float64\n",
      "Start Centroid Location        613451 non-null object\n",
      "End Centroid Latitude          612923 non-null float64\n",
      "End Centroid Longitude         612923 non-null float64\n",
      "End Centroid Location          612923 non-null object\n",
      "dtypes: float64(8), int64(3), object(7)\n",
      "memory usage: 97.6+ MB\n"
     ]
    }
   ],
   "source": [
    "df.info()"
   ]
  },
  {
   "cell_type": "markdown",
   "metadata": {},
   "source": [
    "Converting 'Start Time' and 'End Time' to datetime objects"
   ]
  },
  {
   "cell_type": "code",
   "execution_count": 5,
   "metadata": {},
   "outputs": [],
   "source": [
    "df['Start Time'] = df['Start Time'].astype('datetime64[ns]')\n",
    "df['End Time'] = df['End Time'].astype('datetime64[ns]')"
   ]
  },
  {
   "cell_type": "markdown",
   "metadata": {},
   "source": [
    "We'll be combining our scooter dataset with weather data from [meteostat](https://api.meteostat.net). First, we'll figure out the range of dates that we'll need from the api."
   ]
  },
  {
   "cell_type": "code",
   "execution_count": 6,
   "metadata": {},
   "outputs": [
    {
     "name": "stdout",
     "output_type": "stream",
     "text": [
      "2019-06-15 04:00:00, 2019-10-30 15:00:00\n"
     ]
    }
   ],
   "source": [
    "print(df['Start Time'].min(), df['End Time'].max(), sep=', ')"
   ]
  },
  {
   "cell_type": "markdown",
   "metadata": {},
   "source": [
    "Obtaining this data through the meteostat API is described in the \"weather_data.ipynb\" notebook."
   ]
  },
  {
   "cell_type": "markdown",
   "metadata": {},
   "source": [
    "---"
   ]
  },
  {
   "cell_type": "markdown",
   "metadata": {},
   "source": [
    "### Joining Datasets\n",
    "\n",
    "We'll now join the weather data that we obtained from meteostat with the scooter data."
   ]
  },
  {
   "cell_type": "code",
   "execution_count": null,
   "metadata": {},
   "outputs": [],
   "source": [
    "weather_df = pd.read_csv(\"\")"
   ]
  }
 ],
 "metadata": {
  "kernelspec": {
   "display_name": "Python 3",
   "language": "python",
   "name": "python3"
  },
  "language_info": {
   "codemirror_mode": {
    "name": "ipython",
    "version": 3
   },
   "file_extension": ".py",
   "mimetype": "text/x-python",
   "name": "python",
   "nbconvert_exporter": "python",
   "pygments_lexer": "ipython3",
   "version": "3.7.3"
  }
 },
 "nbformat": 4,
 "nbformat_minor": 4
}
